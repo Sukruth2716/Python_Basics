{
  "nbformat": 4,
  "nbformat_minor": 0,
  "metadata": {
    "colab": {
      "provenance": []
    },
    "kernelspec": {
      "name": "python3",
      "display_name": "Python 3"
    },
    "language_info": {
      "name": "python"
    }
  },
  "cells": [
    {
      "cell_type": "markdown",
      "source": [
        "#Python Basics Questions\n",
        "1.  What is Python, and why is it popular?\n",
        " - Python is a high-level programming level which was developed by Guido Van Russom.\n",
        " - It is known for its readability and ease of use.\n",
        " - It emphasizes code clarity with its clean syntax and English-like commands, making it relatively easy to learn compared to other programming languages.\n",
        "- Reasons for its popularity:\n",
        " - Beginner-friendly: Its simple syntax makes it an excellent choice for beginners in programming.\n",
        " - Versatility: Python is used in various fields, including web development, data science, machine learning, artificial intelligence, scripting, and automation.\n",
        " - Large community and extensive libraries: Python has a massive and active community that contributes to a vast collection of libraries and frameworks, providing pre-built tools and modules that simplify development.\n",
        " - Cross-platform compatibility: Python code can run on various operating systems, including Windows, macOS, and Linux.\n",
        "Strong support for data science and machine learning: Python has become the go-to language for data analysis, machine learning, and AI due to its powerful libraries like NumPy, Pandas, Scikit-learn, and TensorFlow.\n",
        "2. What is an interpreter in Python?\n",
        " - An interpreter is a program that reads and executes code line by line. Unlike compiled languages (like C++), which translate the entire code into machine code before execution. Python's interpreter processes each line of code as it encounters it.\n",
        " - example,\n",
        "           a = 2, executes 1st\n",
        "           b = 3, 2nd execution\n",
        "           print(a+b),and 3rd\n",
        "3.  What are pre-defined keywords in Python?\n",
        " - Pre-defined keywords in Python are reserved words that have specific meanings and purposes within the language. You cannot use these keywords as variable names, function names, or any other identifiers. They are fundamental building blocks of Python's syntax and control the flow and structure of your code.\n",
        " - example, if,elif,else, while, for, break,continue, try, def, class etc\n",
        "4.  Can keywords be used as variable names\n",
        " - No, keywords can't be used for naming variables. Keywords are reserved words with predefined meanings within the language's syntax. If you attempt to use a keyword as a variable name.\n",
        "\n",
        "\n",
        "\\\n",
        "\n",
        "  "
      ],
      "metadata": {
        "id": "kOcAw98uF4NO"
      }
    },
    {
      "cell_type": "code",
      "source": [
        "#example of keyword as variable name\n",
        "print = \"hello\"\n",
        "print(print)\n"
      ],
      "metadata": {
        "colab": {
          "base_uri": "https://localhost:8080/",
          "height": 176
        },
        "id": "BqX0vNqhQBVy",
        "outputId": "b23ceba5-efe1-43d3-c526-930869b6646f"
      },
      "execution_count": null,
      "outputs": [
        {
          "output_type": "error",
          "ename": "TypeError",
          "evalue": "'str' object is not callable",
          "traceback": [
            "\u001b[0;31m---------------------------------------------------------------------------\u001b[0m",
            "\u001b[0;31mTypeError\u001b[0m                                 Traceback (most recent call last)",
            "\u001b[0;32m<ipython-input-1-53511613f1ca>\u001b[0m in \u001b[0;36m<cell line: 3>\u001b[0;34m()\u001b[0m\n\u001b[1;32m      1\u001b[0m \u001b[0;31m#example of keyword as variable name\u001b[0m\u001b[0;34m\u001b[0m\u001b[0;34m\u001b[0m\u001b[0m\n\u001b[1;32m      2\u001b[0m \u001b[0mprint\u001b[0m \u001b[0;34m=\u001b[0m \u001b[0;34m\"hello\"\u001b[0m\u001b[0;34m\u001b[0m\u001b[0;34m\u001b[0m\u001b[0m\n\u001b[0;32m----> 3\u001b[0;31m \u001b[0mprint\u001b[0m\u001b[0;34m(\u001b[0m\u001b[0mprint\u001b[0m\u001b[0;34m)\u001b[0m\u001b[0;34m\u001b[0m\u001b[0;34m\u001b[0m\u001b[0m\n\u001b[0m",
            "\u001b[0;31mTypeError\u001b[0m: 'str' object is not callable"
          ]
        }
      ]
    },
    {
      "cell_type": "markdown",
      "source": [
        " - so what happens here when we use a keyword as an identifer or varaible name is that it fails to perform its pre-defined task when the variable named function is called upon as above example , print was the variable name and when print was called upon using print() it failed to execute as the python interpreter assumes the called upon 'print' as variable and gives error when asked to print using print()"
      ],
      "metadata": {
        "id": "fdiGrLB5RB1w"
      }
    },
    {
      "cell_type": "markdown",
      "source": [
        "5. What is mutability in Python?\n",
        " - In Python, mutability refers to the ability of an object to be changed after it is created. If an object's state can be modified without creating a new object, it is considered mutable. Similarly, if an object's state cannot be changed after creation, it is immutable.\n"
      ],
      "metadata": {
        "id": "MBmhViAOSRyV"
      }
    },
    {
      "cell_type": "code",
      "source": [
        "#example of mutablility\n",
        "nums = []\n",
        "nums.append(1)\n",
        "nums.append(2)\n",
        "nums.append(3)\n",
        "nums.append(4)\n",
        "nums.append(5)\n",
        "print(nums)\n",
        "nums[1]=1\n",
        "print(\"the mutated list would be = \",nums)\n",
        "\n"
      ],
      "metadata": {
        "colab": {
          "base_uri": "https://localhost:8080/"
        },
        "id": "xgEYFz82Qouw",
        "outputId": "800bd746-772f-480d-d794-3d35ccfdae70"
      },
      "execution_count": null,
      "outputs": [
        {
          "output_type": "stream",
          "name": "stdout",
          "text": [
            "[1, 2, 3, 4, 5]\n",
            "the mutated list would be =  [1, 1, 3, 4, 5]\n"
          ]
        }
      ]
    },
    {
      "cell_type": "markdown",
      "source": [
        "6. Why are lists mutable, but tuples are immutable?\n",
        " - The difference in mutability between lists and tuples reflects a design philosophy of providing different data structures for different needs. Lists are for dynamic collections, while tuples are for fixed collections.\n",
        "  -  Lists are designed to store collections of items that may need to be modified, added to, or removed from. They are meant to be flexible and dynamic.\n",
        "  - Tuples are designed to store collections of items that should not be changed after creation. They are meant to represent fixed collections of data.\n",
        "7.  What is the difference between “==” and “is” operators in Python\n",
        " - Both are comparision operators.\n",
        "  - ==(Equality Operator): This operator checks if the values of two objects are the same. It compares the content of the objects.\n",
        "\n",
        " - is(Identity Operator): This operator checks if two objects are the same object in memory. It compares the memory addresses (IDs) of the objects.\n",
        " - example,\n",
        "    list1 = [1, 2, 3]\n",
        "    list2 = [1, 2, 3]\n",
        "    print(list1 is list2)  # Output: False (different objects in memory)\n",
        "\n",
        "    list3 = list1\n",
        "    print(list1 is list3)  # Output: True (same object in memory)"
      ],
      "metadata": {
        "id": "8w5RtGjjYTg_"
      }
    },
    {
      "cell_type": "code",
      "source": [
        "#example\n",
        "list1 = [1, 2, 3]\n",
        "list2 = [1, 2, 3]\n",
        "print(list1 is list2)  # Output: False (different objects in memory)\n",
        "\n",
        "list3 = list1\n",
        "print(list1 is list3)  # Output: True (same object in memory)"
      ],
      "metadata": {
        "colab": {
          "base_uri": "https://localhost:8080/"
        },
        "id": "CRZRMbiuVpi_",
        "outputId": "8a07ff73-5741-4868-edf2-786dc3cbcc81"
      },
      "execution_count": null,
      "outputs": [
        {
          "output_type": "stream",
          "name": "stdout",
          "text": [
            "False\n",
            "True\n"
          ]
        }
      ]
    },
    {
      "cell_type": "markdown",
      "source": [
        "8. What are logical operators in Python'\n",
        " - Logical operators in Python are used to combine or modify boolean values (True or False). They are essential for creating complex conditional statements and controlling the flow of your program. Python has three main logical operators:\n",
        "  - and: Returns True if both operands are True. Otherwise, it returns False.\n",
        "\n",
        "  - or: Returns True if at least one of the operands is True. It returns False only if both operands are False.\n",
        "\n",
        "  - not: Returns the opposite of the operand's boolean value. If the operand is True, not returns False, and if the operand is False, not returns True\n",
        "\n",
        "\n",
        "\n",
        "\n"
      ],
      "metadata": {
        "id": "mZNJ95YjgOTS"
      }
    },
    {
      "cell_type": "code",
      "source": [
        "# and operator\n",
        "x = 5\n",
        "y = 10\n",
        "\n",
        "print(x > 0 and y < 20)  # Output: True (both conditions are true)\n",
        "print(x < 0 and y < 20)  # Output: False (one condition is false)\n",
        "\n",
        "# or operator\n",
        "x = 5\n",
        "y = 10\n",
        "\n",
        "print(x < 0 or y < 20)  # Output: True (one condition is true)\n",
        "print(x < 0 or y > 20)  # Output: False (both conditions are false)\n",
        "\n",
        "# not operator\n",
        "x = 5\n",
        "\n",
        "print(not x > 0)      # Output: False (x > 0 is true, so not reverses it)\n",
        "print(not x < 0)      # Output: True (x < 0 is false, so not reverses it)"
      ],
      "metadata": {
        "colab": {
          "base_uri": "https://localhost:8080/"
        },
        "id": "mN3cW66vcX4y",
        "outputId": "64d728d7-e445-4454-b545-700b621343f9"
      },
      "execution_count": null,
      "outputs": [
        {
          "output_type": "stream",
          "name": "stdout",
          "text": [
            "True\n",
            "False\n",
            "True\n",
            "False\n",
            "False\n",
            "True\n"
          ]
        }
      ]
    },
    {
      "cell_type": "markdown",
      "source": [
        "9.  What is type casting in Python\n",
        " - Type casting (also known as type conversion) in Python is the process of changing the data type of a value from one type to another. It's useful when you need to perform operations that are only valid between certain data types or when you need to represent data in a different format.\n",
        " ## Python has several built-in functions for type casting:\n",
        " - int(): Converts a value to an integer.\n",
        " - float(): Converts a value to a floating-point number.\n",
        " - str(): Converts a value to a string.\n",
        " - bool(): Converts a value to a boolean.\n",
        " - list(): Converts an iterable (like a tuple or string) to a list.\n",
        " - tuple(): Converts an iterable (like a list or string) to a tuple.\n",
        " - set(): Converts an iterable to a set (removes duplicates)\n"
      ],
      "metadata": {
        "id": "sr7ArFQNhvTu"
      }
    },
    {
      "cell_type": "code",
      "source": [
        "#type casting\n",
        "a = 5\n",
        "b = \"6\"\n",
        "print(type(a))\n",
        "print(type(b))\n",
        "#to convert b to integer we use int() function\n",
        "\n",
        "b = int(b)\n",
        "print(b)\n",
        "print(type(b))"
      ],
      "metadata": {
        "colab": {
          "base_uri": "https://localhost:8080/"
        },
        "id": "wrLuFjb3hQK2",
        "outputId": "bdd5a11d-93f7-4b43-aaef-6c9456193fa5"
      },
      "execution_count": null,
      "outputs": [
        {
          "output_type": "stream",
          "name": "stdout",
          "text": [
            "<class 'int'>\n",
            "<class 'str'>\n",
            "6\n",
            "<class 'int'>\n"
          ]
        }
      ]
    },
    {
      "cell_type": "markdown",
      "source": [
        "10. What is the difference between implicit and explicit type casting?\n",
        " - Implicit typecasting or type conversion is where the python interpreter itself converts one data type to another datatype automatically while performing operations on data to prevent data loss.\n",
        " - Explicit type casting or type casting is where the coder or user manually converts one data type to another data type as per requirements."
      ],
      "metadata": {
        "id": "cleUztsYkQjT"
      }
    },
    {
      "cell_type": "code",
      "source": [
        "#implicit type casting\n",
        "a = 5\n",
        "b = 1.1\n",
        "print(a+b) #here interpreter automically converts a to float"
      ],
      "metadata": {
        "colab": {
          "base_uri": "https://localhost:8080/"
        },
        "id": "jbU5CjB2i1iU",
        "outputId": "44a40bfb-1337-42dc-9f70-37dba640c45e"
      },
      "execution_count": null,
      "outputs": [
        {
          "output_type": "stream",
          "name": "stdout",
          "text": [
            "6.1\n"
          ]
        }
      ]
    },
    {
      "cell_type": "code",
      "source": [
        "#explicit type casting\n",
        "a = input(\"Enter a num = \")\n",
        "print(a, type(a))\n",
        "b = int(input(\"Enter a num = \"))#using int() to convert input to int manually\n",
        "print(b, type(b))"
      ],
      "metadata": {
        "colab": {
          "base_uri": "https://localhost:8080/"
        },
        "id": "zx7zKQ_Nlb4a",
        "outputId": "248b6433-69e0-4c6b-8441-ecc8ac544bbf"
      },
      "execution_count": null,
      "outputs": [
        {
          "output_type": "stream",
          "name": "stdout",
          "text": [
            "Enter a num = 10\n",
            "10 <class 'str'>\n",
            "Enter a num = 5\n",
            "5 <class 'int'>\n"
          ]
        }
      ]
    },
    {
      "cell_type": "code",
      "source": [],
      "metadata": {
        "id": "6FHEm6fEmY7k"
      },
      "execution_count": null,
      "outputs": []
    },
    {
      "cell_type": "markdown",
      "source": [
        "11.  What is the purpose of conditional statements in Python?\n",
        " - The purpose of conditional statements in Python is to control the flow of execution of your code based on whether certain conditions are met. They allow your program to make decisions and execute different blocks of code depending on the outcome of a logical test.\n",
        " ## Python primarily uses three keywords for conditional statements:\n",
        "\n",
        " - if: This keyword is used to execute a block of code only if a condition is True.\n",
        "\n",
        " - elif (else if): This keyword is used to check an additional condition if the previous if or elif conditions are False. It allows you to create a chain of conditions.\n",
        "\n",
        " - else: This keyword is used to execute a block of code if all preceding if and elif conditions are False. It provides a default action.\n",
        " 12. How does the elif statement work?\n",
        "  - The elif statement in Python (short for \"else if\") is used to check multiple conditions sequentially. It provides a way to handle different cases without nesting multiple if statements, making your code cleaner and more readable.\n",
        "  - Starts with if: The conditional structure always begins with an if statement. The condition associated with the if statement is evaluated first.\n",
        "\n",
        " - elif for subsequent conditions: If the if condition is False, the interpreter then checks the condition associated with the first elif statement. If that elif condition is True, the code block under that elif is executed, and the rest of the elif and else blocks are skipped.\n",
        "\n",
        " - Multiple elif statements: You can have multiple elif statements to check a series of different conditions. The interpreter checks them in order, from top to bottom. As soon as one elif condition is True, its corresponding code block is executed, and the rest are skipped.\n",
        "  - else: An optional else block can be placed at the end. The code within the else block is executed only if none of the preceding if or elif conditions are True\n"
      ],
      "metadata": {
        "id": "VLdTUSs7mZzA"
      }
    },
    {
      "cell_type": "code",
      "source": [
        "#example of elif\n",
        "age = int(input(\"Enter your age = \"))\n",
        "driving_test_score = int(input(\"Enter your driving test score secured out of 20 = \"))\n",
        "if age < 18:\n",
        "  print(\"You are not eligible for driving liscence...!\")\n",
        "elif age >= 18 and driving_test_score  >= 10:\n",
        "  print(\"You are eligible to apply for driving liscene \")\n",
        "else:\n",
        "  print(\"You are above 18 but failed to clear your driving liscence test, so apply again..\")\n",
        "\n"
      ],
      "metadata": {
        "colab": {
          "base_uri": "https://localhost:8080/"
        },
        "id": "r_gFqzNhl35i",
        "outputId": "9aa57732-276b-44cb-ffa3-39b3419488ed"
      },
      "execution_count": null,
      "outputs": [
        {
          "output_type": "stream",
          "name": "stdout",
          "text": [
            "Enter your age = 26\n",
            "Enter your driving test score secured out of 20 = 15\n",
            "You are eligible to apply for driving liscene \n"
          ]
        }
      ]
    },
    {
      "cell_type": "markdown",
      "source": [
        "13.  What is the difference between for and while loops?\n",
        " - the above concept has not been covered in the lectures but i shall give my best shot..\n",
        " - for and while loops are both used for repetition (looping) in Python, but they are designed for different scenarios.\n",
        " - Iteration over a sequence: The for loop is primarily used for iterating over a sequence (like a list, tuple, string, range, or other iterable objects). It executes a block of code for each item in the sequence.\n",
        " - Known number of iterations: Typically, you use a for loop when you know in advance how many times you need to repeat the code.\n",
        " - Syntax :\n",
        "    - for item in sequence:\n",
        "      - Code to be executed for each item\n",
        "  - while Loop:\n",
        "\n",
        " - Iteration based on a condition: The while loop executes a block of code as long as a certain condition is True. It continues to repeat as long as the condition remains True.\n",
        " - Unknown number of iterations: You typically use a while loop when you don't know in advance how many times you need to repeat the code. The loop continues until the condition becomes False.\n",
        " - Syntax, while condition:\n",
        "       - Code to be executed as long as the condition is True"
      ],
      "metadata": {
        "id": "jWyh0Tlppm6W"
      }
    },
    {
      "cell_type": "code",
      "source": [
        "#for loop\n",
        "num = int(input(\"Enter num you wanna find = \"))\n",
        "list = [1,2,3,4,5]\n",
        "print(list)\n",
        "for i in list:\n",
        "\n",
        "  if i == num:\n",
        "    print(num, \"is found\")\n",
        "  else:\n",
        "    print(\"not found\")\n"
      ],
      "metadata": {
        "colab": {
          "base_uri": "https://localhost:8080/"
        },
        "id": "JmRdtSX2o8gP",
        "outputId": "20177335-e3e1-4110-a054-81c80b09df18"
      },
      "execution_count": null,
      "outputs": [
        {
          "output_type": "stream",
          "name": "stdout",
          "text": [
            "Enter num you wanna find = 8\n",
            "[1, 2, 3, 4, 5]\n",
            "not found\n",
            "not found\n",
            "not found\n",
            "not found\n",
            "not found\n"
          ]
        }
      ]
    },
    {
      "cell_type": "code",
      "source": [
        "#while loop\n",
        "num1 = int(input(\"Enter a number  = \"))\n",
        "num2 = int(input(\"Enter end number  = \"))\n",
        "\n",
        "while num1 <= num2:\n",
        "  print(num1)\n",
        "  num1+=1\n"
      ],
      "metadata": {
        "colab": {
          "base_uri": "https://localhost:8080/"
        },
        "id": "oeMzVTWqrH4D",
        "outputId": "5cd6ab66-e663-4229-93cd-60d189b4a75b"
      },
      "execution_count": null,
      "outputs": [
        {
          "output_type": "stream",
          "name": "stdout",
          "text": [
            "Enter a number  = 5\n",
            "Enter end number  = 100\n",
            "5\n",
            "6\n",
            "7\n",
            "8\n",
            "9\n",
            "10\n",
            "11\n",
            "12\n",
            "13\n",
            "14\n",
            "15\n",
            "16\n",
            "17\n",
            "18\n",
            "19\n",
            "20\n",
            "21\n",
            "22\n",
            "23\n",
            "24\n",
            "25\n",
            "26\n",
            "27\n",
            "28\n",
            "29\n",
            "30\n",
            "31\n",
            "32\n",
            "33\n",
            "34\n",
            "35\n",
            "36\n",
            "37\n",
            "38\n",
            "39\n",
            "40\n",
            "41\n",
            "42\n",
            "43\n",
            "44\n",
            "45\n",
            "46\n",
            "47\n",
            "48\n",
            "49\n",
            "50\n",
            "51\n",
            "52\n",
            "53\n",
            "54\n",
            "55\n",
            "56\n",
            "57\n",
            "58\n",
            "59\n",
            "60\n",
            "61\n",
            "62\n",
            "63\n",
            "64\n",
            "65\n",
            "66\n",
            "67\n",
            "68\n",
            "69\n",
            "70\n",
            "71\n",
            "72\n",
            "73\n",
            "74\n",
            "75\n",
            "76\n",
            "77\n",
            "78\n",
            "79\n",
            "80\n",
            "81\n",
            "82\n",
            "83\n",
            "84\n",
            "85\n",
            "86\n",
            "87\n",
            "88\n",
            "89\n",
            "90\n",
            "91\n",
            "92\n",
            "93\n",
            "94\n",
            "95\n",
            "96\n",
            "97\n",
            "98\n",
            "99\n",
            "100\n"
          ]
        }
      ]
    },
    {
      "cell_type": "markdown",
      "source": [
        "14.  Describe a scenario where a while loop is more suitable than a for loop.\n",
        "- for loop: Use it when you know exactly how many times you need to do something(iterations). You have a list of things, a range of numbers, or something similar where the number of steps is clear.\n",
        "\n",
        " - while loop: Use it when you don't know how many times you need to do something(iterations). You keep doing it as long as a certain condition is true. The number of steps is uncertain beforehand."
      ],
      "metadata": {
        "id": "XBxOPfWaxFGW"
      }
    },
    {
      "cell_type": "code",
      "source": [
        "#example 1\n",
        "for i in range(1, 11):\n",
        "    print(i)"
      ],
      "metadata": {
        "colab": {
          "base_uri": "https://localhost:8080/"
        },
        "id": "4J6SAstTuSKB",
        "outputId": "72d47a60-56e4-4e36-e981-edc07bb11399"
      },
      "execution_count": null,
      "outputs": [
        {
          "output_type": "stream",
          "name": "stdout",
          "text": [
            "1\n",
            "2\n",
            "3\n",
            "4\n",
            "5\n",
            "6\n",
            "7\n",
            "8\n",
            "9\n",
            "10\n"
          ]
        }
      ]
    },
    {
      "cell_type": "code",
      "source": [
        "#example 2\n",
        "command = \"\"\n",
        "while command != \"quit\":\n",
        "    command = input(\"Enter a command (type 'quit' to exit): \")"
      ],
      "metadata": {
        "colab": {
          "base_uri": "https://localhost:8080/"
        },
        "id": "gf6uN-syxWdL",
        "outputId": "881d2b66-8391-4bdd-e4d5-1c91ff67263d"
      },
      "execution_count": null,
      "outputs": [
        {
          "name": "stdout",
          "output_type": "stream",
          "text": [
            "Enter a command (type 'quit' to exit): Hey Mentor, hope you are doing good...\n",
            "Enter a command (type 'quit' to exit): Good evening...\n",
            "Enter a command (type 'quit' to exit): exit\n",
            "Enter a command (type 'quit' to exit): quit\n"
          ]
        }
      ]
    },
    {
      "cell_type": "markdown",
      "source": [
        "# Coding(Practical) Questions\n",
        "\n"
      ],
      "metadata": {
        "id": "47yN53c7yGT5"
      }
    },
    {
      "cell_type": "code",
      "source": [
        "# 1. Write a Python program to print \"Hello, World!\"\n",
        "message = input(\"Enter your message = \")\n",
        "print(message)"
      ],
      "metadata": {
        "colab": {
          "base_uri": "https://localhost:8080/"
        },
        "id": "_vSl4AX6xjpA",
        "outputId": "4822541d-1d46-44ea-f90a-4f955f44be72"
      },
      "execution_count": null,
      "outputs": [
        {
          "output_type": "stream",
          "name": "stdout",
          "text": [
            "Enter your message = Hello, World!\n",
            "Hello, World!\n"
          ]
        }
      ]
    },
    {
      "cell_type": "code",
      "source": [
        "# 2.  Write a Python program that displays your name and age.\n",
        "name = input(\"Enter your name = \")\n",
        "age = int(input(\"Enter your age = \"))\n",
        "print(\"My name is\",name+'.' \"\\n I am\",age,\"years old.\")\n"
      ],
      "metadata": {
        "colab": {
          "base_uri": "https://localhost:8080/"
        },
        "id": "xlh6u5gwynyv",
        "outputId": "2979cd42-8874-482b-9903-5991658bcd2b"
      },
      "execution_count": null,
      "outputs": [
        {
          "output_type": "stream",
          "name": "stdout",
          "text": [
            "Enter your name = Sukruth\n",
            "Enter your age = 21\n",
            "My name is Sukruth.\n",
            " I am 21 years old.\n"
          ]
        }
      ]
    },
    {
      "cell_type": "code",
      "source": [
        "# 3. Write code to print all the pre-defined keywords in Python using the keyword library\n",
        "import keyword\n",
        "print(keyword.kwlist)#prints all the keys as lists  so we can use for loop to iterate over\n",
        "for i in keyword.kwlist:\n",
        "  print(i)"
      ],
      "metadata": {
        "colab": {
          "base_uri": "https://localhost:8080/"
        },
        "id": "osM3zPTqzNZf",
        "outputId": "4d44e66e-fa0b-4135-b16c-68228eb6442a"
      },
      "execution_count": null,
      "outputs": [
        {
          "output_type": "stream",
          "name": "stdout",
          "text": [
            "['False', 'None', 'True', 'and', 'as', 'assert', 'async', 'await', 'break', 'class', 'continue', 'def', 'del', 'elif', 'else', 'except', 'finally', 'for', 'from', 'global', 'if', 'import', 'in', 'is', 'lambda', 'nonlocal', 'not', 'or', 'pass', 'raise', 'return', 'try', 'while', 'with', 'yield']\n",
            "False\n",
            "None\n",
            "True\n",
            "and\n",
            "as\n",
            "assert\n",
            "async\n",
            "await\n",
            "break\n",
            "class\n",
            "continue\n",
            "def\n",
            "del\n",
            "elif\n",
            "else\n",
            "except\n",
            "finally\n",
            "for\n",
            "from\n",
            "global\n",
            "if\n",
            "import\n",
            "in\n",
            "is\n",
            "lambda\n",
            "nonlocal\n",
            "not\n",
            "or\n",
            "pass\n",
            "raise\n",
            "return\n",
            "try\n",
            "while\n",
            "with\n",
            "yield\n"
          ]
        }
      ]
    },
    {
      "cell_type": "code",
      "source": [],
      "metadata": {
        "id": "8CyLwVnC-3W5"
      },
      "execution_count": null,
      "outputs": []
    },
    {
      "cell_type": "code",
      "source": [
        "# 4. Checking for a key by a given word.\n",
        "import keyword\n",
        "\n",
        "keyword.kwlist\n",
        "\n",
        "word = input(\"Enter a word = \")\n",
        "\n",
        "for key in keyword.kwlist:\n",
        "  if word == key:\n",
        "    print(\"Is a python key!\")\n",
        "    break\n",
        "\n",
        "else:\n",
        "    print(\"Entered\",word,\"is not a python key!\")\n",
        "\n",
        "\n",
        "\n"
      ],
      "metadata": {
        "colab": {
          "base_uri": "https://localhost:8080/"
        },
        "id": "U6yBo6qfEhX_",
        "outputId": "cdbb6ba7-3377-49b3-8340-ea3f5c37fc6c"
      },
      "execution_count": null,
      "outputs": [
        {
          "output_type": "stream",
          "name": "stdout",
          "text": [
            "Enter a word = for\n",
            "Is a python key!\n"
          ]
        }
      ]
    },
    {
      "cell_type": "code",
      "source": [
        "\"\"\"5.  Create a list and tuple in Python, and demonstrate how attempting to change an element works differently\n",
        "for each\"\"\"\n",
        "list1 = []\n",
        "list1.append(int(input(\"Enter list1 value 1 = \")))\n",
        "list1.append(int(input(\"Enter list1 value 2 = \")))\n",
        "list1.append(int(input(\"Enter list1 value 3 = \")))\n",
        "list1.append(int(input(\"Enter list1 value 4 = \")))\n",
        "list1.append(int(input(\"Enter list1 value 5 =  \")))\n",
        "print(\"Original list =\",list1)\n",
        "print(\"\\nChanging list1[2] to 20\")\n",
        "list1[2]=20\n",
        "print(list1)\n",
        "print(\"\\n Now lets go with tupple!\")\n",
        "tup1 = (1,2,3,4,5)\n",
        "print(\"\\n Lets try to change value of tup1[2] to 20\")\n",
        "# tup1[2] = 20 throws error item assignment not supportable in tuples\n",
        "# print(tup1)\n",
        "print(\"\\n but am stubborn so i wanna add 20 to tup1[2], so lets go\")\n",
        "tup2 = tup1[:2] + (20,) + tup1[3:]\n",
        "print(\"tuple doesnt support item assignment but this is how we change elements in tup2\",\"\\n Changed tup2 is\",tup2)\n",
        "\n",
        "\n"
      ],
      "metadata": {
        "colab": {
          "base_uri": "https://localhost:8080/"
        },
        "id": "BIrKdWO8ExIp",
        "outputId": "898077b7-dd8d-4d2f-f624-d059acd0ffc9"
      },
      "execution_count": null,
      "outputs": [
        {
          "output_type": "stream",
          "name": "stdout",
          "text": [
            "Enter list1 value 1 = 1\n",
            "Enter list1 value 2 = 2\n",
            "Enter list1 value 3 = 3\n",
            "Enter list1 value 4 = 4\n",
            "Enter list1 value 5 =  5\n",
            "Original list = [1, 2, 3, 4, 5]\n",
            "\n",
            "Changing list1[2] to 20\n",
            "[1, 2, 20, 4, 5]\n",
            "\n",
            " Now lets go with tupple!\n",
            "\n",
            " Lets try to change value of tup1[2] to 20\n",
            "\n",
            " but am stubborn so i wanna add 20 to tup1[2], so lets go\n",
            "tuple doesnt support item assignment but this is how we change elements in tup2 \n",
            " Changed tup2 is (1, 2, 20, 4, 5)\n"
          ]
        }
      ]
    },
    {
      "cell_type": "code",
      "source": [
        "#6  Write a function to demonstrate the behavior of mutable and immutable arguments.\n",
        "#loops and functions are not covered in \"Python Basics Module\".\n",
        "def modify_mutable(my_list):\n",
        "    \"\"\"Modifies a mutable list argument.\"\"\"\n",
        "    print(\"Inside modify_mutable function:\")\n",
        "    print(\"Original list (inside function):\", my_list)\n",
        "    my_list.append(4)  # Modifies the original list\n",
        "    my_list[0] = 99\n",
        "    print(\"Modified list (inside function):\", my_list)\n",
        "\n",
        "def modify_immutable(my_tuple):\n",
        "    \"\"\"Attempts to modify an immutable tuple argument (creates a new tuple).\"\"\"\n",
        "    print(\"\\nInside modify_immutable function:\")\n",
        "    print(\"Original tuple (inside function):\", my_tuple)\n",
        "    # my_tuple[0] = 99 # This would cause an error\n",
        "    my_tuple = my_tuple + (4,)  # Creates a new tuple\n",
        "    print(\"Modified tuple (inside function, actually a new tuple):\", my_tuple)\n",
        "\n",
        "\n",
        "# Demonstrate mutable behavior (list)\n",
        "original_list = [1, 2, 3]\n",
        "print(\"Before calling modify_mutable:\", original_list)\n",
        "modify_mutable(original_list)\n",
        "print(\"After calling modify_mutable:\", original_list)  # The original list is changed!\n",
        "\n",
        "# Demonstrate immutable behavior (tuple)\n",
        "original_tuple = (1, 2, 3)\n",
        "print(\"\\nBefore calling modify_immutable:\", original_tuple)\n",
        "modify_immutable(original_tuple)\n",
        "print(\"After calling modify_immutable:\", original_tuple)  # The original tuple is unchanged!\n",
        "\n",
        "#Demonstrate string immutability\n",
        "def modify_string(my_string):\n",
        "    print(\"\\nInside modify_string function:\")\n",
        "    print(\"Original string (inside function):\", my_string)\n",
        "    my_string += \" world\"\n",
        "    print(\"Modified string (inside function, actually a new string):\", my_string)\n",
        "\n",
        "original_string = \"hello\"\n",
        "print(\"\\nBefore calling modify_string:\", original_string)\n",
        "modify_string(original_string)\n",
        "print(\"After calling modify_string:\", original_string)\n",
        "\n",
        "\n"
      ],
      "metadata": {
        "colab": {
          "base_uri": "https://localhost:8080/"
        },
        "id": "vBHOZRtNUbpn",
        "outputId": "2ff3a557-95a9-4121-d0ef-cbd47e107bd4"
      },
      "execution_count": null,
      "outputs": [
        {
          "output_type": "stream",
          "name": "stdout",
          "text": [
            "Before calling modify_mutable: [1, 2, 3]\n",
            "Inside modify_mutable function:\n",
            "Original list (inside function): [1, 2, 3]\n",
            "Modified list (inside function): [99, 2, 3, 4]\n",
            "After calling modify_mutable: [99, 2, 3, 4]\n",
            "\n",
            "Before calling modify_immutable: (1, 2, 3)\n",
            "\n",
            "Inside modify_immutable function:\n",
            "Original tuple (inside function): (1, 2, 3)\n",
            "Modified tuple (inside function, actually a new tuple): (1, 2, 3, 4)\n",
            "After calling modify_immutable: (1, 2, 3)\n",
            "\n",
            "Before calling modify_string: hello\n",
            "\n",
            "Inside modify_string function:\n",
            "Original string (inside function): hello\n",
            "Modified string (inside function, actually a new string): hello world\n",
            "After calling modify_string: hello\n"
          ]
        }
      ]
    },
    {
      "cell_type": "code",
      "source": [
        "# 7. Write a function to demonstrate the behavior of mutable and immutable\n",
        "# arguments.\n",
        "def modify_value(value):\n",
        "    \"\"\"Demonstrates mutable/immutable behavior.\"\"\"\n",
        "    print(\"Inside function, before:\", value, id(value))\n",
        "    if type(value) is list:  # Lists are mutable\n",
        "        value.append(4)\n",
        "    elif type(value) is int:  # Integers are immutable\n",
        "        value += 1  # Creates a new integer\n",
        "    elif type(value) is tuple:\n",
        "        value = value + (4,)\n",
        "    elif type(value) is str:\n",
        "        value = value + \" world\"\n",
        "    print(\"Inside function, after:\", value, id(value))\n",
        "\n",
        "# List example (mutable)\n",
        "my_list = [1, 2, 3]\n",
        "print(\"Outside function, before:\", my_list, id(my_list))\n",
        "modify_value(my_list)\n",
        "print(\"Outside function, after:\", my_list, id(my_list))  # Original list is changed\n",
        "\n",
        "# Integer example (immutable)\n",
        "my_int = 5\n",
        "print(\"\\nOutside function, before:\", my_int, id(my_int))\n",
        "modify_value(my_int)\n",
        "print(\"Outside function, after:\", my_int, id(my_int))  # Original integer is NOT changed\n",
        "\n",
        "# Tuple example (immutable)\n",
        "my_tuple = (1, 2, 3)\n",
        "print(\"\\nOutside function, before:\", my_tuple, id(my_tuple))\n",
        "modify_value(my_tuple)\n",
        "print(\"Outside function, after:\", my_tuple, id(my_tuple))  # Original tuple is NOT changed\n",
        "\n",
        "# String example (immutable)\n",
        "my_string = \"hello\"\n",
        "print(\"\\nOutside function, before:\", my_string, id(my_string))\n",
        "modify_value(my_string)\n",
        "print(\"Outside function, after:\", my_string, id(my_string))  # Original string is NOT changed\n"
      ],
      "metadata": {
        "colab": {
          "base_uri": "https://localhost:8080/"
        },
        "id": "B6INGXOZiayB",
        "outputId": "d36ca1f9-e1a5-4cd6-dccf-8bb7603a9b01"
      },
      "execution_count": null,
      "outputs": [
        {
          "output_type": "stream",
          "name": "stdout",
          "text": [
            "Outside function, before: [1, 2, 3] 135058671608832\n",
            "Inside function, before: [1, 2, 3] 135058671608832\n",
            "Inside function, after: [1, 2, 3] 135058671608832\n",
            "Outside function, after: [1, 2, 3] 135058671608832\n",
            "\n",
            "Outside function, before: 5 135059997704560\n",
            "Inside function, before: 5 135059997704560\n",
            "Inside function, after: 6 135059997704592\n",
            "Outside function, after: 5 135059997704560\n",
            "\n",
            "Outside function, before: (1, 2, 3) 135058671823808\n",
            "Inside function, before: (1, 2, 3) 135058671823808\n",
            "Inside function, after: (1, 2, 3, 4) 135058671980512\n",
            "Outside function, after: (1, 2, 3) 135058671823808\n",
            "\n",
            "Outside function, before: hello 135059571753328\n",
            "Inside function, before: hello 135059571753328\n",
            "Inside function, after: hello world 135058671946672\n",
            "Outside function, after: hello 135059571753328\n"
          ]
        }
      ]
    },
    {
      "cell_type": "code",
      "source": [
        "# 8. Write a program to demonstrate the use of logical operators\n",
        "# logical operators = and, or and not\n",
        "#and\n",
        "a = int(input(\"Enter 1st number = \"))\n",
        "b = int(input(\"Enter 2nd number = \"))\n",
        "c = int(input(\"Enter 3rd number = \"))\n",
        "if (a > b and a > c):\n",
        "  print(a,\"is largest!\")\n",
        "elif (b > a and b > c):\n",
        "  print(b,\"is greatest\")\n",
        "else:\n",
        "  print(c,\"is greatest\")\n",
        "\n",
        "\n",
        "\n",
        "\n"
      ],
      "metadata": {
        "colab": {
          "base_uri": "https://localhost:8080/"
        },
        "id": "DUJV3arSjBvG",
        "outputId": "1edb815c-bc25-4b91-cecd-eea1779a56cb"
      },
      "execution_count": null,
      "outputs": [
        {
          "output_type": "stream",
          "name": "stdout",
          "text": [
            "Enter 1st number = 100\n",
            "Enter 2nd number = 150\n",
            "Enter 3rd number = 160\n",
            "160 is greatest\n"
          ]
        }
      ]
    },
    {
      "cell_type": "code",
      "source": [
        "#or operator\n",
        "a = int(input(\"Enter 1st number = \"))\n",
        "b = int(input(\"Enter 2nd number = \"))\n",
        "if (a > 0 and b > 0):\n",
        "  print(\"both are greater than 0\")\n",
        "elif (a > 0 or b > 0):\n",
        "  print(\"either of them are greater than 0\")\n",
        "else:\n",
        "  print(\"both are negative\")"
      ],
      "metadata": {
        "colab": {
          "base_uri": "https://localhost:8080/"
        },
        "id": "Vj_zU2WbrNl9",
        "outputId": "71f38d63-9c3e-42b0-9876-06f8a1595c89"
      },
      "execution_count": null,
      "outputs": [
        {
          "output_type": "stream",
          "name": "stdout",
          "text": [
            "Enter 1st number = 1\n",
            "Enter 2nd number = -1\n",
            "either of them are greater than 0\n"
          ]
        }
      ]
    },
    {
      "cell_type": "code",
      "source": [
        "#not\n",
        "num = a = int(input(\"Enter a number = \"))\n",
        "your_fav_num = a = int(input(\"Enter your fav number = \"))\n",
        "if num!= your_fav_num:\n",
        "  print(\"Entered number is not equal to your fav number!\")\n",
        "else:\n",
        "  print(\"Entered number is equal to your fav number!\")\n"
      ],
      "metadata": {
        "colab": {
          "base_uri": "https://localhost:8080/"
        },
        "id": "1wMRFvZ3v4tD",
        "outputId": "c518dd2e-d3e7-4c25-a37e-d8f7f0d9ee71"
      },
      "execution_count": null,
      "outputs": [
        {
          "output_type": "stream",
          "name": "stdout",
          "text": [
            "Enter a number = 100\n",
            "Enter your fav number = 60\n",
            "Entered number is not equal to your fav number!\n"
          ]
        }
      ]
    },
    {
      "cell_type": "code",
      "source": [
        "# 9.  Write a Python program to convert user input from string to integer, float, and boolean types\n",
        "num = a = input(\"Enter a number = \")\n",
        "print(a,\"and its type is = \",type(a))\n",
        "print(\"converted to int =\",int(num))\n",
        "print(\"converted to float = \",float(num))\n",
        "print(\"converted to bool = \",bool(num))#bool(num>1 and num<0) shall always give true but bool(0) shall give false\n",
        "\n"
      ],
      "metadata": {
        "colab": {
          "base_uri": "https://localhost:8080/"
        },
        "id": "CTUXylGowpbW",
        "outputId": "fb6b4d84-4199-4bf2-f68c-7458cdefbdc1"
      },
      "execution_count": null,
      "outputs": [
        {
          "output_type": "stream",
          "name": "stdout",
          "text": [
            "Enter a number = 1\n",
            "1 and its type is =  <class 'str'>\n",
            "converted to int = 1\n",
            "converted to float =  1.0\n",
            "converted to bool =  True\n"
          ]
        }
      ]
    },
    {
      "cell_type": "code",
      "source": [
        "# 10.  Write code to demonstrate type casting with list elements\n",
        "my_list = [\"1\", \"2\", \"3\", \"3.14\", \"-5\"]\n",
        "print('original list =',my_list)\n",
        "#now lets male a list of integers by converting all these to integers!\n",
        "new_list = []\n",
        "for item in my_list:\n",
        "  new_list.append(float(item))\n",
        "print('new_list is',new_list)\n",
        "int_list = []\n",
        "for item in new_list:\n",
        "  int_list.append(int(item))\n",
        "print(\"integer list is\",int_list)\n"
      ],
      "metadata": {
        "colab": {
          "base_uri": "https://localhost:8080/"
        },
        "id": "abBOXTdtyBOm",
        "outputId": "89fee8b9-9ea5-474f-b0db-057bf35d72e0"
      },
      "execution_count": null,
      "outputs": [
        {
          "output_type": "stream",
          "name": "stdout",
          "text": [
            "original list = ['1', '2', '3', '3.14', '-5']\n",
            "new_list is [1.0, 2.0, 3.0, 3.14, -5.0]\n",
            "integer list is [1, 2, 3, 3, -5]\n"
          ]
        }
      ]
    },
    {
      "cell_type": "code",
      "source": [
        "# 11 Write a program that checks if a number is positive, negative, or zero\n",
        "num = int(input(\"Enter a number = \"))\n",
        "if num < 0:\n",
        "  print(num,\"is negative\")\n",
        "elif num > 0:\n",
        "  print(num,\"is positive\")\n",
        "else:\n",
        "  print(num,\"is zero\")"
      ],
      "metadata": {
        "colab": {
          "base_uri": "https://localhost:8080/"
        },
        "id": "WU8ajzWp0Y3N",
        "outputId": "8d252c17-3fea-477e-9596-13a4d8b44e7c"
      },
      "execution_count": null,
      "outputs": [
        {
          "output_type": "stream",
          "name": "stdout",
          "text": [
            "Enter a number = -1\n",
            "-1 is negative\n"
          ]
        }
      ]
    },
    {
      "cell_type": "code",
      "source": [
        "# 12  Write a for loop to print numbers from 1 to 10\n",
        "for i in range(1,11):\n",
        "  print(i)"
      ],
      "metadata": {
        "colab": {
          "base_uri": "https://localhost:8080/"
        },
        "id": "QFCDNFfJ5K45",
        "outputId": "d8462d50-0aff-42b1-976f-0f06bd7e5e55"
      },
      "execution_count": null,
      "outputs": [
        {
          "output_type": "stream",
          "name": "stdout",
          "text": [
            "1\n",
            "2\n",
            "3\n",
            "4\n",
            "5\n",
            "6\n",
            "7\n",
            "8\n",
            "9\n",
            "10\n"
          ]
        }
      ]
    },
    {
      "cell_type": "code",
      "source": [
        "# 13  Write a Python program to find the sum of all even numbers between 1 and 50\n",
        "\n",
        "i = 1\n",
        "sum = 0\n",
        "while i <= 50:\n",
        "  if i % 2 == 0:\n",
        "    sum+=i\n",
        "  i+=1\n",
        "print(sum)"
      ],
      "metadata": {
        "colab": {
          "base_uri": "https://localhost:8080/"
        },
        "id": "0hdiOu246FzH",
        "outputId": "387ac634-f7ea-4a21-e546-6810f3098526"
      },
      "execution_count": 46,
      "outputs": [
        {
          "output_type": "stream",
          "name": "stdout",
          "text": [
            "650\n"
          ]
        }
      ]
    },
    {
      "cell_type": "code",
      "source": [
        "# 14 Write a program to reverse a string using a while loop\n",
        "a = input(\"any word = \")\n",
        "b = \"\"\n",
        "index = len(a)-1\n",
        "while index >= 0:\n",
        "  print(b+a[index],end = \"\")\n",
        "  index-=1\n",
        "\n"
      ],
      "metadata": {
        "id": "QpRXwpg17H5K",
        "colab": {
          "base_uri": "https://localhost:8080/"
        },
        "outputId": "97a10dca-de33-4726-802b-8b6c6962fd12"
      },
      "execution_count": 60,
      "outputs": [
        {
          "output_type": "stream",
          "name": "stdout",
          "text": [
            "any word = PWskills\n",
            "slliksWP"
          ]
        }
      ]
    },
    {
      "cell_type": "code",
      "source": [
        "# 15  Write a Python program to calculate the factorial of a number provided by the user using a while loop.\n",
        "num = int(input(\"Enter a nukmber = \"))\n",
        "fact = 1\n",
        "while num > 0:\n",
        "  fact*=num\n",
        "  num-=1\n",
        "print(\"the factorial of\",num,\"is\",fact)\n",
        "\n",
        "\n"
      ],
      "metadata": {
        "colab": {
          "base_uri": "https://localhost:8080/"
        },
        "id": "TR60B9a69fHR",
        "outputId": "e5e2e6da-4d9c-4eeb-b857-e3f9f2d3c855"
      },
      "execution_count": 62,
      "outputs": [
        {
          "output_type": "stream",
          "name": "stdout",
          "text": [
            "Enter a nukmber = 10\n",
            "the factorial of 0 is 3628800\n"
          ]
        }
      ]
    },
    {
      "cell_type": "code",
      "source": [],
      "metadata": {
        "id": "nAvJSC_UBs3T"
      },
      "execution_count": null,
      "outputs": []
    }
  ]
}